{
 "cells": [
  {
   "cell_type": "code",
   "execution_count": 6,
   "metadata": {
    "collapsed": false
   },
   "outputs": [
    {
     "name": "stdout",
     "output_type": "stream",
     "text": [
      "['../data/raw/patients/00cba091fa4ad62cc3200a657aeb957e', '../data/raw/patients/0a099f2549429d29b32f349e95fb2244', '../data/raw/patients/0a0c32c9e08cc2ea76a71649de56be6d', '../data/raw/patients/0a38e7597ca26f9374f8ea2770ba870d', '../data/raw/patients/0acbebb8d463b4b9ca88cf38431aac69', '../data/raw/patients/0b20184e0cd497028bdd155d9fb42dc9', '../data/raw/patients/0bd0e3056cbf23a1cb7f0f0b18446068', '../data/raw/patients/0c0de3749d4fe175b7a5098b060982a1', '../data/raw/patients/0c37613214faddf8701ca41e6d43f56e', '../data/raw/patients/0c59313f52304e25d5a7dcf9877633b1', '../data/raw/patients/0c60f4b87afcb3e2dfa65abbbf3ef2f9', '../data/raw/patients/0c98fcb55e3f36d0c2b6507f62f4c5f1', '../data/raw/patients/0c9d8314f9c69840e25febabb1229fa4', '../data/raw/patients/0ca943d821204ceb089510f836a367fd', '../data/raw/patients/0d06d764d3c07572074d468b4cff954f', '../data/raw/patients/0d19f1c627df49eb223771c28548350e', '../data/raw/patients/0d2fcf787026fece4e57be167d079383', '../data/raw/patients/0d941a3ad6c889ac451caf89c46cb92a', '../data/raw/patients/0ddeb08e9c97227853422bd71a2a695e', '../data/raw/patients/0de72529c30fe642bc60dcb75c87f6bd']\n"
     ]
    }
   ],
   "source": [
    "# Loading the necessary modules.\n",
    "\n",
    "%matplotlib inline\n",
    "\n",
    "import numpy as np\n",
    "import pandas as pd\n",
    "import dicom\n",
    "from os import listdir\n",
    "import glob\n",
    "from os.path import join\n",
    "import matplotlib.pyplot as plt\n",
    "\n",
    "from skimage import measure,morphology\n",
    "from scipy import ndimage\n",
    "from mpl_toolkits.mplot3d.art3d import Poly3DCollection\n",
    "\n",
    "INPUT_FOLDER = '../data/raw/patients'\n",
    "patients = glob.glob(INPUT_FOLDER+'/*')\n",
    "patients.sort()"
   ]
  },
  {
   "cell_type": "code",
   "execution_count": 13,
   "metadata": {
    "collapsed": false
   },
   "outputs": [],
   "source": [
    "def load_scan(path):\n",
    "    slices = [dicom.read_file(join(path,s)) for s in listdir(path)]\n",
    "    slices.sort(key = lambda x: int(x.InstanceNumber))\n",
    "    try : \n",
    "        slice_thickness = np.abs(slices[0].ImagePositionPatient[2] - \n",
    "                                 slices[1].ImagePositionPatient[2])\n",
    "    except:\n",
    "        slice_thickness = np.abs(slices[0].SliceLocation - slices[1].SliceLocation)\n",
    "    for s in slices:\n",
    "        s.SliceThickness = slice_thickness\n",
    "    return slices"
   ]
  },
  {
   "cell_type": "code",
   "execution_count": 14,
   "metadata": {
    "collapsed": false
   },
   "outputs": [],
   "source": [
    "x = load_scan(patients[0])"
   ]
  },
  {
   "cell_type": "code",
   "execution_count": 17,
   "metadata": {
    "collapsed": false
   },
   "outputs": [
    {
     "data": {
      "text/plain": [
       "dicom.dataset.FileDataset"
      ]
     },
     "execution_count": 17,
     "metadata": {},
     "output_type": "execute_result"
    }
   ],
   "source": [
    "type(x[0])"
   ]
  },
  {
   "cell_type": "code",
   "execution_count": null,
   "metadata": {
    "collapsed": true
   },
   "outputs": [],
   "source": []
  }
 ],
 "metadata": {
  "kernelspec": {
   "display_name": "Python 3",
   "language": "python",
   "name": "python3"
  },
  "language_info": {
   "codemirror_mode": {
    "name": "ipython",
    "version": 3
   },
   "file_extension": ".py",
   "mimetype": "text/x-python",
   "name": "python",
   "nbconvert_exporter": "python",
   "pygments_lexer": "ipython3",
   "version": "3.5.2"
  }
 },
 "nbformat": 4,
 "nbformat_minor": 0
}
